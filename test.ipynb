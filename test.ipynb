{
 "cells": [
  {
   "cell_type": "code",
   "execution_count": 24,
   "metadata": {},
   "outputs": [],
   "source": [
    "import numpy as np\n",
    "from SideWalkEnv import side_walk_env"
   ]
  },
  {
   "cell_type": "code",
   "execution_count": 25,
   "metadata": {},
   "outputs": [
    {
     "name": "stdout",
     "output_type": "stream",
     "text": [
      "[4 3 3]\n"
     ]
    }
   ],
   "source": [
    "test = [[1, 2, 3, 4, 5],[-1,3,4,5,6],[-1,3,4,5,6]]\n",
    "test_find5 = np.where(np.array(test) == 5)\n",
    "print(test_find5[1])"
   ]
  },
  {
   "cell_type": "code",
   "execution_count": 28,
   "metadata": {},
   "outputs": [
    {
     "ename": "TypeError",
     "evalue": "side_walk_env.__init__() takes 1 positional argument but 7 were given",
     "output_type": "error",
     "traceback": [
      "\u001b[1;31m---------------------------------------------------------------------------\u001b[0m",
      "\u001b[1;31mTypeError\u001b[0m                                 Traceback (most recent call last)",
      "\u001b[1;32mc:\\Users\\Qiang Gao\\side_walk\\test.ipynb Cell 3\u001b[0m in \u001b[0;36m<cell line: 1>\u001b[1;34m()\u001b[0m\n\u001b[1;32m----> <a href='vscode-notebook-cell:/c%3A/Users/Qiang%20Gao/side_walk/test.ipynb#W4sZmlsZQ%3D%3D?line=0'>1</a>\u001b[0m side_walk_env(\u001b[39m15\u001b[39;49m,\u001b[39m50\u001b[39;49m,\u001b[39m13\u001b[39;49m,\u001b[39m2\u001b[39;49m,\u001b[39m0.2\u001b[39;49m,\u001b[39m0.1\u001b[39;49m)\n",
      "\u001b[1;31mTypeError\u001b[0m: side_walk_env.__init__() takes 1 positional argument but 7 were given"
     ]
    }
   ],
   "source": [
    "side_walk_env(15,50,13,2,0.2,0.1)\n"
   ]
  },
  {
   "cell_type": "code",
   "execution_count": null,
   "metadata": {},
   "outputs": [],
   "source": []
  }
 ],
 "metadata": {
  "kernelspec": {
   "display_name": "Python 3.10.4",
   "language": "python",
   "name": "python3"
  },
  "language_info": {
   "codemirror_mode": {
    "name": "ipython",
    "version": 3
   },
   "file_extension": ".py",
   "mimetype": "text/x-python",
   "name": "python",
   "nbconvert_exporter": "python",
   "pygments_lexer": "ipython3",
   "version": "3.10.4"
  },
  "orig_nbformat": 4,
  "vscode": {
   "interpreter": {
    "hash": "019f1c5bcaa1ac95aadec57a7d10cf0dae2547bdde91e92a50fd198da3a696cb"
   }
  }
 },
 "nbformat": 4,
 "nbformat_minor": 2
}
