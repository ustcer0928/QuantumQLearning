{
 "cells": [
  {
   "cell_type": "code",
   "execution_count": 1,
   "metadata": {},
   "outputs": [],
   "source": [
    "import gym\n",
    "from QuantumQL import GroverQLearner"
   ]
  },
  {
   "cell_type": "code",
   "execution_count": null,
   "metadata": {},
   "outputs": [],
   "source": [
    "# test\n",
    "# choose env\n",
    "envtest = gym.make(\"FrozenLake-v1\", is_slippery=False)\n",
    "# init learner\n",
    "Elliot = GroverQLearner(envtest)\n",
    "# good hyperparms (hand-tuned)\n",
    "hyperp = {'k': 0.1,\n",
    "          'alpha': 0.1,\n",
    "          'gamma': 0.99,\n",
    "          'eps': 0.01,\n",
    "          'max_epochs': 3000,\n",
    "          'max_steps': 15}\n",
    "# set hyperparms\n",
    "# Elliot.set_hyperparams(hyperp)\n",
    "\n",
    "# TRAIN\n",
    "trajectories = Elliot.train()\n",
    "\n",
    "# Show trajectories\n",
    "for key in trajectories.keys():\n",
    "    print(key, trajectories[key])\n",
    "\n",
    "# final state values\n",
    "print(Elliot.state_vals.reshape((4, 4)))\n",
    "\n",
    "# grover flags\n",
    "for state, flag in enumerate(Elliot.grover_steps_flag):\n",
    "    print(state, '\\t', flag)\n",
    "\n",
    "# state-action circuits\n",
    "for s, circ in enumerate(Elliot.acts_circs):\n",
    "    print('action circuit for state ', s)\n",
    "    print(circ.draw())"
   ]
  }
 ],
 "metadata": {
  "kernelspec": {
   "display_name": "Python 3.10.4",
   "language": "python",
   "name": "python3"
  },
  "language_info": {
   "codemirror_mode": {
    "name": "ipython",
    "version": 3
   },
   "file_extension": ".py",
   "mimetype": "text/x-python",
   "name": "python",
   "nbconvert_exporter": "python",
   "pygments_lexer": "ipython3",
   "version": "3.10.4"
  },
  "orig_nbformat": 4,
  "vscode": {
   "interpreter": {
    "hash": "019f1c5bcaa1ac95aadec57a7d10cf0dae2547bdde91e92a50fd198da3a696cb"
   }
  }
 },
 "nbformat": 4,
 "nbformat_minor": 2
}
