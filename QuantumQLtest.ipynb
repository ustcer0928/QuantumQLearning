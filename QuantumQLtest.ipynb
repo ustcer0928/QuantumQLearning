{
 "cells": [
  {
   "cell_type": "code",
   "execution_count": 3,
   "metadata": {},
   "outputs": [],
   "source": [
    "import gym\n",
    "from QuantumQL import GroverQLearner\n",
    "import numpy as np\n",
    "import matplotlib.pyplot as plt"
   ]
  },
  {
   "cell_type": "code",
   "execution_count": 5,
   "metadata": {},
   "outputs": [
    {
     "name": "stdout",
     "output_type": "stream",
     "text": [
      "Processing epoch 0 ...\n",
      "Processing epoch 10 ...\n",
      "Processing epoch 20 ...\n",
      "Processing epoch 30 ...\n",
      "Processing epoch 40 ...\n",
      "Processing epoch 50 ...\n",
      "Processing epoch 60 ...\n",
      "Processing epoch 70 ...\n",
      "Processing epoch 80 ...\n",
      "Processing epoch 90 ...\n",
      "Processing epoch 100 ...\n",
      "Processing epoch 110 ...\n",
      "Processing epoch 120 ...\n",
      "Processing epoch 130 ...\n",
      "Processing epoch 140 ...\n",
      "Processing epoch 150 ...\n",
      "Processing epoch 160 ...\n",
      "Processing epoch 170 ...\n",
      "Processing epoch 180 ...\n",
      "Processing epoch 190 ...\n",
      "Processing epoch 200 ...\n",
      "Processing epoch 210 ...\n",
      "Processing epoch 220 ...\n",
      "Processing epoch 230 ...\n",
      "Processing epoch 240 ...\n",
      "Processing epoch 250 ...\n",
      "Processing epoch 260 ...\n",
      "Processing epoch 270 ...\n",
      "Processing epoch 280 ...\n",
      "Processing epoch 290 ...\n",
      "Processing epoch 300 ...\n",
      "Processing epoch 310 ...\n",
      "Processing epoch 320 ...\n",
      "Processing epoch 330 ...\n",
      "Processing epoch 340 ...\n",
      "Processing epoch 350 ...\n",
      "Processing epoch 360 ...\n",
      "Processing epoch 370 ...\n",
      "Processing epoch 380 ...\n",
      "Processing epoch 390 ...\n",
      "Processing epoch 400 ...\n",
      "Processing epoch 410 ...\n",
      "Processing epoch 420 ...\n",
      "Processing epoch 430 ...\n",
      "Processing epoch 440 ...\n",
      "Processing epoch 450 ...\n",
      "Processing epoch 460 ...\n",
      "Processing epoch 470 ...\n",
      "Processing epoch 480 ...\n",
      "Processing epoch 490 ...\n",
      "Processing epoch 500 ...\n",
      "Processing epoch 510 ...\n",
      "Processing epoch 520 ...\n",
      "Processing epoch 530 ...\n",
      "Processing epoch 540 ...\n",
      "Processing epoch 550 ...\n",
      "Processing epoch 560 ...\n",
      "Processing epoch 570 ...\n",
      "Processing epoch 580 ...\n",
      "Processing epoch 590 ...\n",
      "Processing epoch 600 ...\n",
      "Processing epoch 610 ...\n",
      "Processing epoch 620 ...\n",
      "Processing epoch 630 ...\n",
      "Processing epoch 640 ...\n",
      "Processing epoch 650 ...\n",
      "Processing epoch 660 ...\n",
      "Processing epoch 670 ...\n",
      "Processing epoch 680 ...\n",
      "Processing epoch 690 ...\n",
      "Processing epoch 700 ...\n",
      "Processing epoch 710 ...\n",
      "Processing epoch 720 ...\n",
      "Processing epoch 730 ...\n",
      "Processing epoch 740 ...\n",
      "Processing epoch 750 ...\n",
      "Processing epoch 760 ...\n",
      "Processing epoch 770 ...\n",
      "Processing epoch 780 ...\n",
      "Processing epoch 790 ...\n",
      "Processing epoch 800 ...\n",
      "Processing epoch 810 ...\n",
      "Processing epoch 820 ...\n",
      "Processing epoch 830 ...\n",
      "Processing epoch 840 ...\n",
      "Processing epoch 850 ...\n",
      "Processing epoch 860 ...\n",
      "Processing epoch 870 ...\n",
      "Processing epoch 880 ...\n",
      "Processing epoch 890 ...\n",
      "Processing epoch 900 ...\n",
      "Processing epoch 910 ...\n",
      "Processing epoch 920 ...\n",
      "Processing epoch 930 ...\n",
      "Processing epoch 940 ...\n",
      "Processing epoch 950 ...\n",
      "Processing epoch 960 ...\n",
      "Processing epoch 970 ...\n",
      "Processing epoch 980 ...\n",
      "Processing epoch 990 ...\n",
      "Taking step 0/7\r"
     ]
    },
    {
     "data": {
      "text/plain": [
       "[<matplotlib.lines.Line2D at 0x2438b45d870>]"
      ]
     },
     "execution_count": 5,
     "metadata": {},
     "output_type": "execute_result"
    },
    {
     "data": {
      "image/png": "[encoded data removed]",
      "text/plain": [
       "<Figure size 640x480 with 1 Axes>"
      ]
     },
     "metadata": {},
     "output_type": "display_data"
    }
   ],
   "source": [
    "# test\n",
    "# choose env\n",
    "envtest = gym.make(\"FrozenLake-v1\", is_slippery=False)\n",
    "# init learner\n",
    "Elliot = GroverQLearner(envtest)\n",
    "# good hyperparms (hand-tuned)\n",
    "hyperp = {'k': 0.1,\n",
    "          'alpha': 0.1,\n",
    "          'gamma': 0.99,\n",
    "          'eps': 0.01,\n",
    "          'max_epochs': 3000,\n",
    "          'max_steps': 15}\n",
    "# set hyperparms\n",
    "# Elliot.set_hyperparams(hyperp)\n",
    "\n",
    "# TRAIN\n",
    "steps_in_all_epochs,_,_ = Elliot.train()\n",
    "\n",
    "plt.plot(steps_in_all_epochs)\n",
    "\n",
    "# Show trajectories\n",
    "# for key in trajectories.keys():\n",
    "#     print(key, trajectories[key])\n",
    "\n",
    "# final state values\n",
    "# print(Elliot.state_vals.reshape((4, 4)))\n",
    "\n",
    "# grover flags\n",
    "# for state, flag in enumerate(Elliot.grover_steps_flag):\n",
    "#     print(state, '\\t', flag)\n",
    "\n",
    "# state-action circuits\n",
    "# for s, circ in enumerate(Elliot.acts_circs):\n",
    "#     print('action circuit for state ', s)\n",
    "#     print(circ.draw())"
   ]
  },
  {
   "cell_type": "code",
   "execution_count": 6,
   "metadata": {},
   "outputs": [
    {
     "name": "stdout",
     "output_type": "stream",
     "text": [
      "7\n"
     ]
    }
   ],
   "source": [
    "print(steps_in_all_epochs[-1])"
   ]
  },
  {
   "cell_type": "code",
   "execution_count": null,
   "metadata": {},
   "outputs": [],
   "source": []
  }
 ],
 "metadata": {
  "kernelspec": {
   "display_name": "Python 3.10.4",
   "language": "python",
   "name": "python3"
  },
  "language_info": {
   "codemirror_mode": {
    "name": "ipython",
    "version": 3
   },
   "file_extension": ".py",
   "mimetype": "text/x-python",
   "name": "python",
   "nbconvert_exporter": "python",
   "pygments_lexer": "ipython3",
   "version": "3.10.4"
  },
  "orig_nbformat": 4,
  "vscode": {
   "interpreter": {
    "hash": "019f1c5bcaa1ac95aadec57a7d10cf0dae2547bdde91e92a50fd198da3a696cb"
   }
  }
 },
 "nbformat": 4,
 "nbformat_minor": 2
}
